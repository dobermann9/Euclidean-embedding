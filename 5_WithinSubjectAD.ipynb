{
 "cells": [
  {
   "attachments": {},
   "cell_type": "markdown",
   "metadata": {},
   "source": [
    "### Addendum A: Within-subject angular deviation\n",
    "\n",
    "Warren at al. also compared the within-subject angular deviation of their groups.\n",
    "Here, the corresponding question would be: Is one model significantly better or worse in predicting this deviation than the other?\n",
    "\n",
    "I only compare the VA and Em1 models."
   ]
  },
  {
   "attachments": {},
   "cell_type": "markdown",
   "metadata": {},
   "source": [
    "#### A.1 Shortcuts dataset"
   ]
  },
  {
   "cell_type": "code",
   "execution_count": 1,
   "metadata": {},
   "outputs": [
    {
     "name": "stdout",
     "output_type": "stream",
     "text": [
      "Shortcuts dataset:\n",
      "Avg. angular deviation: va: 29.7480° | em1: 32.1478°\n"
     ]
    }
   ],
   "source": [
    "# Shortcuts dataset: Load the files and partition accordingly\n",
    "\n",
    "import numpy as np\n",
    "import scipy.stats\n",
    "\n",
    "dataset_ae = np.loadtxt(\"datasets/dataset_ae.txt\", delimiter=\"\\t\", dtype=float)\n",
    "ad_va = scipy.stats.circstd(dataset_ae[:, :8], np.pi, -np.pi, axis=1)\n",
    "ad_em1 = scipy.stats.circstd(dataset_ae[:, 8:16], np.pi, -np.pi, axis=1)\n",
    "\n",
    "print(\"Shortcuts dataset:\")\n",
    "print(\"Avg. angular deviation: va: {:.4f}° | em1: {:.4f}°\".format(\n",
    "    np.rad2deg(scipy.stats.circmean(ad_va, np.pi, -np.pi)),\n",
    "    np.rad2deg(scipy.stats.circmean(ad_em1, np.pi, -np.pi))))"
   ]
  },
  {
   "cell_type": "code",
   "execution_count": 3,
   "metadata": {},
   "outputs": [
    {
     "data": {
      "image/png": "[encoded data removed]",
      "text/plain": [
       "<Figure size 936x360 with 1 Axes>"
      ]
     },
     "metadata": {
      "needs_background": "light"
     },
     "output_type": "display_data"
    }
   ],
   "source": [
    "# [RUN TWICE for large plots!] Boxplot of the angular deviation\n",
    "import matplotlib.pyplot as plt\n",
    "plt.rcParams['figure.figsize'] = [13, 5]\n",
    "\n",
    "ax = plt.subplot(131)\n",
    "ax.boxplot([np.rad2deg(ad_va), np.rad2deg(ad_em1)])\n",
    "ax.set_xticklabels([\"va\", \"em1\"])\n",
    "ax.set_title(\"Angular deviation\")\n",
    "\n",
    "plt.show()\n"
   ]
  },
  {
   "cell_type": "code",
   "execution_count": 4,
   "metadata": {},
   "outputs": [
    {
     "name": "stdout",
     "output_type": "stream",
     "text": [
      "Cohen's d (VA-em1): -0.37113985563874863, Circular: -0.341209658383499\n",
      "VA-Em1: Wattson-Williams result: p=0.4169440638048728\n"
     ]
    },
    {
     "data": {
      "text/html": [
       "<div>\n",
       "<style scoped>\n",
       "    .dataframe tbody tr th:only-of-type {\n",
       "        vertical-align: middle;\n",
       "    }\n",
       "\n",
       "    .dataframe tbody tr th {\n",
       "        vertical-align: top;\n",
       "    }\n",
       "\n",
       "    .dataframe thead th {\n",
       "        text-align: right;\n",
       "    }\n",
       "</style>\n",
       "<table border=\"1\" class=\"dataframe\">\n",
       "  <thead>\n",
       "    <tr style=\"text-align: right;\">\n",
       "      <th></th>\n",
       "      <th>df</th>\n",
       "      <th>SS</th>\n",
       "      <th>MS</th>\n",
       "      <th>F</th>\n",
       "      <th>p-value</th>\n",
       "    </tr>\n",
       "    <tr>\n",
       "      <th>Source</th>\n",
       "      <th></th>\n",
       "      <th></th>\n",
       "      <th></th>\n",
       "      <th></th>\n",
       "      <th></th>\n",
       "    </tr>\n",
       "  </thead>\n",
       "  <tbody>\n",
       "    <tr>\n",
       "      <th>Columns</th>\n",
       "      <td>1.0</td>\n",
       "      <td>0.004360</td>\n",
       "      <td>0.004360</td>\n",
       "      <td>0.69031</td>\n",
       "      <td>0.416944</td>\n",
       "    </tr>\n",
       "    <tr>\n",
       "      <th>Residual</th>\n",
       "      <td>18.0</td>\n",
       "      <td>0.114185</td>\n",
       "      <td>0.006344</td>\n",
       "      <td>NaN</td>\n",
       "      <td>NaN</td>\n",
       "    </tr>\n",
       "    <tr>\n",
       "      <th>Total</th>\n",
       "      <td>19.0</td>\n",
       "      <td>0.118545</td>\n",
       "      <td>NaN</td>\n",
       "      <td>NaN</td>\n",
       "      <td>NaN</td>\n",
       "    </tr>\n",
       "  </tbody>\n",
       "</table>\n",
       "</div>"
      ],
      "text/plain": [
       "            df        SS        MS        F   p-value\n",
       "Source                                               \n",
       "Columns    1.0  0.004360  0.004360  0.69031  0.416944\n",
       "Residual  18.0  0.114185  0.006344      NaN       NaN\n",
       "Total     19.0  0.118545       NaN      NaN       NaN"
      ]
     },
     "execution_count": 4,
     "metadata": {},
     "output_type": "execute_result"
    }
   ],
   "source": [
    "# Statistical tests\n",
    "\n",
    "import pycircstat\n",
    "import function_repository4 as fr4\n",
    "\n",
    "print(\"Cohen's d (VA-em1): {}, Circular: {}\".format(fr4.cohens_d(ad_va, ad_em1), \n",
    "    fr4.cohens_d(ad_va, ad_em1, circular=True)))\n",
    "ww_p, ww_f = pycircstat.tests.watson_williams(ad_va, ad_em1)\n",
    "print(\"VA-Em1: Wattson-Williams result: p={}\".format(ww_p))\n",
    "ww_f"
   ]
  },
  {
   "attachments": {},
   "cell_type": "markdown",
   "metadata": {},
   "source": [
    "#### A.2 Rips and folds dataset"
   ]
  },
  {
   "cell_type": "code",
   "execution_count": 5,
   "metadata": {},
   "outputs": [
    {
     "name": "stdout",
     "output_type": "stream",
     "text": [
      "Rips and folds dataset:\n",
      "Avg. angular deviation: va: 42.3601° | em1: 33.7746°\n"
     ]
    },
    {
     "data": {
      "image/png": "[encoded data removed]",
      "text/plain": [
       "<Figure size 936x360 with 1 Axes>"
      ]
     },
     "metadata": {
      "needs_background": "light"
     },
     "output_type": "display_data"
    }
   ],
   "source": [
    "# Rips and folds dataset: Load the files and partition accordingly\n",
    "\n",
    "dataset_ae = np.loadtxt(\"datasets/dataset_RnF_ae3.txt\", delimiter=\"\\t\", dtype=float)\n",
    "ad_va = scipy.stats.circstd(dataset_ae[:, :8], np.pi, -np.pi, axis=1)\n",
    "ad_em1 = scipy.stats.circstd(dataset_ae[:, 8:16], np.pi, -np.pi, axis=1)\n",
    "\n",
    "print(\"Rips and folds dataset:\")\n",
    "print(\"Avg. angular deviation: va: {:.4f}° | em1: {:.4f}°\".format(\n",
    "    np.rad2deg(scipy.stats.circmean(ad_va, np.pi, -np.pi)),\n",
    "    np.rad2deg(scipy.stats.circmean(ad_em1, np.pi, -np.pi))))\n",
    "\n",
    "ax = plt.subplot(131)\n",
    "ax.boxplot([np.rad2deg(ad_va), np.rad2deg(ad_em1)])\n",
    "ax.set_xticklabels([\"va\", \"em1\"])\n",
    "ax.set_title(\"Angular deviation\")\n",
    "plt.show()\n"
   ]
  },
  {
   "cell_type": "code",
   "execution_count": 6,
   "metadata": {},
   "outputs": [
    {
     "name": "stdout",
     "output_type": "stream",
     "text": [
      "Cohen's d (VA-em1): 0.8589928091813189, Circular: 0.8457534346459336\n",
      "VA-Em1: Wattson-Williams result: p=0.05725935390372907\n"
     ]
    },
    {
     "data": {
      "text/html": [
       "<div>\n",
       "<style scoped>\n",
       "    .dataframe tbody tr th:only-of-type {\n",
       "        vertical-align: middle;\n",
       "    }\n",
       "\n",
       "    .dataframe tbody tr th {\n",
       "        vertical-align: top;\n",
       "    }\n",
       "\n",
       "    .dataframe thead th {\n",
       "        text-align: right;\n",
       "    }\n",
       "</style>\n",
       "<table border=\"1\" class=\"dataframe\">\n",
       "  <thead>\n",
       "    <tr style=\"text-align: right;\">\n",
       "      <th></th>\n",
       "      <th>df</th>\n",
       "      <th>SS</th>\n",
       "      <th>MS</th>\n",
       "      <th>F</th>\n",
       "      <th>p-value</th>\n",
       "    </tr>\n",
       "    <tr>\n",
       "      <th>Source</th>\n",
       "      <th></th>\n",
       "      <th></th>\n",
       "      <th></th>\n",
       "      <th></th>\n",
       "      <th></th>\n",
       "    </tr>\n",
       "  </thead>\n",
       "  <tbody>\n",
       "    <tr>\n",
       "      <th>Columns</th>\n",
       "      <td>1.0</td>\n",
       "      <td>0.060871</td>\n",
       "      <td>0.060871</td>\n",
       "      <td>4.07045</td>\n",
       "      <td>0.057259</td>\n",
       "    </tr>\n",
       "    <tr>\n",
       "      <th>Residual</th>\n",
       "      <td>20.0</td>\n",
       "      <td>0.302147</td>\n",
       "      <td>0.015107</td>\n",
       "      <td>NaN</td>\n",
       "      <td>NaN</td>\n",
       "    </tr>\n",
       "    <tr>\n",
       "      <th>Total</th>\n",
       "      <td>21.0</td>\n",
       "      <td>0.363018</td>\n",
       "      <td>NaN</td>\n",
       "      <td>NaN</td>\n",
       "      <td>NaN</td>\n",
       "    </tr>\n",
       "  </tbody>\n",
       "</table>\n",
       "</div>"
      ],
      "text/plain": [
       "            df        SS        MS        F   p-value\n",
       "Source                                               \n",
       "Columns    1.0  0.060871  0.060871  4.07045  0.057259\n",
       "Residual  20.0  0.302147  0.015107      NaN       NaN\n",
       "Total     21.0  0.363018       NaN      NaN       NaN"
      ]
     },
     "execution_count": 6,
     "metadata": {},
     "output_type": "execute_result"
    }
   ],
   "source": [
    "# Statistical tests\n",
    "\n",
    "import pycircstat\n",
    "\n",
    "print(\"Cohen's d (VA-em1): {}, Circular: {}\".format(fr4.cohens_d(ad_va, ad_em1), \n",
    "    fr4.cohens_d(ad_va, ad_em1, circular=True)))\n",
    "ww_p, ww_f = pycircstat.tests.watson_williams(ad_va, ad_em1)\n",
    "print(\"VA-Em1: Wattson-Williams result: p={}\".format(ww_p))\n",
    "ww_f"
   ]
  },
  {
   "cell_type": "code",
   "execution_count": 7,
   "metadata": {},
   "outputs": [
    {
     "name": "stdout",
     "output_type": "stream",
     "text": [
      "-0.5567679522645598\n",
      "-0.5567679522645598\n",
      "-0.8123763756155098\n"
     ]
    }
   ],
   "source": [
    "# Cohen's d 2.0, testing cases\n",
    "\n",
    "# test conditions\n",
    "c0 = np.array([2, 4, 7, 3, 7, 35, 8, 9])\n",
    "c1 = np.array([i * 2 for i in c0])\n",
    "\n",
    "def cohen1(x1, x2):\n",
    "    cohens_d = (np.mean(x1) - np.mean(x2)) / (np.sqrt((np.var(x1,ddof=1) + \n",
    "                                                       np.var(x2,ddof=1)) / 2))\n",
    "    return cohens_d\n",
    "\n",
    "def cohen2(x1, x2):\n",
    "    n1 = x1.shape[0]\n",
    "    n2 = x2.shape[0]\n",
    "    mx1 = np.mean(x1)\n",
    "    mx2 = np.mean(x2)\n",
    "\n",
    "    var1 = 1/(n1-1)*np.sum((x1-mx1)**2)\n",
    "    var2 = 1/(n2-1)*np.sum((x2-mx2)**2)\n",
    "\n",
    "    s = np.sqrt(((n1-1)*var1+(n2-1)*var2)/(n1+n2-2))\n",
    "\n",
    "    d = (mx1-mx2)/s\n",
    "    return d\n",
    "\n",
    "def cohen3(x1, x2):\n",
    "    n1 = x1.shape[0]\n",
    "    n2 = x2.shape[0]\n",
    "    mean_x1 = scipy.stats.circmean(x1, np.pi, -np.pi)\n",
    "    mean_x2 = scipy.stats.circmean(x2, np.pi, -np.pi)\n",
    "\n",
    "    var1 = 1/(n1-1)*np.sum(((x1-mean_x1+np.pi)%(2*np.pi)-np.pi)**2)\n",
    "    var2 = 1/(n2-1)*np.sum(((x1-mean_x1+np.pi)%(2*np.pi)-np.pi)**2)\n",
    "\n",
    "    s = np.sqrt(((n1-1)*var1+(n2-1)*var2)/(n1+n2-2))\n",
    "\n",
    "    d = ((mean_x1-mean_x2+np.pi)%(2*np.pi)-np.pi)/s\n",
    "    return d\n",
    "\n",
    "print(cohen1(c0,c1))\n",
    "print(cohen2(c0,c1))\n",
    "print(cohen3(np.deg2rad(c0),np.deg2rad(c1)))"
   ]
  }
 ],
 "metadata": {
  "kernelspec": {
   "display_name": "Python 3",
   "language": "python",
   "name": "python3"
  },
  "language_info": {
   "codemirror_mode": {
    "name": "ipython",
    "version": 3
   },
   "file_extension": ".py",
   "mimetype": "text/x-python",
   "name": "python",
   "nbconvert_exporter": "python",
   "pygments_lexer": "ipython3",
   "version": "3.10.8"
  },
  "orig_nbformat": 4,
  "vscode": {
   "interpreter": {
    "hash": "aa153a3e0e6d5141f27b4149e6a6f2480b3337c30eceda655c2c7f0d622679da"
   }
  }
 },
 "nbformat": 4,
 "nbformat_minor": 2
}
